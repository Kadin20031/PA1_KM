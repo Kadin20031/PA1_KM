{
 "cells": [
  {
   "cell_type": "markdown",
   "id": "4f8483f4",
   "metadata": {},
   "source": [
    "### Kadin McWilliams\n",
    "### Assignment 1\n",
    "### Version 1\n",
    "### Fall 2023 "
   ]
  },
  {
   "cell_type": "markdown",
   "id": "31cb7378",
   "metadata": {},
   "source": [
    "# Kadin McWilliams\n",
    "### My name is Kadin and I like to play videogames with my friends for fun. I am interested in coding because I like to make things and coding lets me make things and see my results fast.\n"
   ]
  },
  {
   "cell_type": "markdown",
   "id": "36299871",
   "metadata": {},
   "source": [
    "* Programming assignments \n",
    "* Quizzes \n",
    "* Attendence/In Class completed notebook submission\n",
    "* Mid-Term Exam \n",
    "* Project (2)\n"
   ]
  },
  {
   "cell_type": "markdown",
   "id": "fe4f26a9",
   "metadata": {},
   "source": [
    "1. Course Introduction \n",
    "2. Variables and Simple Data Types\n",
    "3. Introducing Lists, Tuples\n",
    "4. if Statements\n",
    "5. Dictionaries\n",
    "6. Loops\n",
    "7. Functions\n",
    "8. Numpy \n"
   ]
  },
  {
   "cell_type": "markdown",
   "id": "9e00b094",
   "metadata": {},
   "source": [
    "**Python**\n",
    "\n",
    "*Anaconda*"
   ]
  },
  {
   "cell_type": "markdown",
   "id": "4b03ffb1",
   "metadata": {},
   "source": [
    "Hello world `I am excited to be alive` today and breathing lots of yummy air :)"
   ]
  },
  {
   "cell_type": "markdown",
   "id": "885abe00",
   "metadata": {},
   "source": [
    "<a href=\"https://github.com/Kadin20031\">Github Account</a>"
   ]
  },
  {
   "cell_type": "markdown",
   "id": "5e76a718",
   "metadata": {},
   "source": [
    "![Bellarmine Logo](https://encrypted-tbn0.gstatic.com/images?q=tbn:ANd9GcQnJlQxKwLdcDvI4L5wD--6xHJKG62UPf9idFcC4rUZtg&s)"
   ]
  },
  {
   "cell_type": "markdown",
   "id": "bf4026e0",
   "metadata": {},
   "source": [
    "> Today I learned how to use the different types of headers as well as how to make bulleted and numbered lists. I also leanred how to make bold and italic words as well as how to highlight a section in a paragraph. The last thing I learned was how to insert a hyperlink and a image into my program file. "
   ]
  }
 ],
 "metadata": {
  "kernelspec": {
   "display_name": "Python 3 (ipykernel)",
   "language": "python",
   "name": "python3"
  },
  "language_info": {
   "codemirror_mode": {
    "name": "ipython",
    "version": 3
   },
   "file_extension": ".py",
   "mimetype": "text/x-python",
   "name": "python",
   "nbconvert_exporter": "python",
   "pygments_lexer": "ipython3",
   "version": "3.11.4"
  }
 },
 "nbformat": 4,
 "nbformat_minor": 5
}
